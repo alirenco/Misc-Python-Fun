{
  "nbformat": 4,
  "nbformat_minor": 0,
  "metadata": {
    "colab": {
      "provenance": []
    },
    "kernelspec": {
      "name": "python3",
      "display_name": "Python 3"
    },
    "language_info": {
      "name": "python"
    }
  },
  "cells": [
    {
      "cell_type": "code",
      "execution_count": null,
      "metadata": {
        "id": "16ku7P65izLg"
      },
      "outputs": [],
      "source": []
    },
    {
      "cell_type": "markdown",
      "source": [
        "1: Morse Translator\n",
        "\n",
        "Write a piece of code that translates (or \"transliterates\") from plain English to Morse code.\n",
        "\n",
        "Notes:\n",
        "\n",
        "* Let's assume the input is purely alphanumeric. No punctuations.\n",
        "* Collections are a good way to store data... But what type of collection fits this the best?\n",
        "* Python doesn't have switch statements. But there are ways to shorthand case switches in Python. It requires the cunning use of a type of collection that you learned in the course...\n",
        "* Try to use two functions for this problem.\n",
        "* In normal Morse code, you use a dot to separate characters. But let's not do that here. You can use any character you want. To make it \"old school\" you can use one of the ASCII control characters, or a pipe (|) or a slash."
      ],
      "metadata": {
        "id": "ItTjtbgci1Vs"
      }
    },
    {
      "cell_type": "code",
      "source": [
        "# turn the message into all capital letters for ease of translation\n",
        "all_caps = lambda x: x.upper()"
      ],
      "metadata": {
        "id": "ix-Z6WZ_i31E"
      },
      "execution_count": 7,
      "outputs": []
    },
    {
      "cell_type": "code",
      "source": [
        "# establish dictionary for morse code translations for each letter\n",
        "morse = {'A': '._',\n",
        "         'B': '_...',\n",
        "         'C': '_._.',\n",
        "         'D': '_..',\n",
        "         'E': '.',\n",
        "         'F': '.._.',\n",
        "         'G': '__.',\n",
        "         'H': '....',\n",
        "         'I': '..',\n",
        "         'J': '.___',\n",
        "         'K': '_._',\n",
        "         'L': '._..',\n",
        "         'M': '__',\n",
        "         'N': '_.',\n",
        "         'O': '___',\n",
        "         'P': '.__.',\n",
        "         'Q': '__._',\n",
        "         'R': '._.',\n",
        "         'S': '...',\n",
        "         'T': '_',\n",
        "         'U': '.._',\n",
        "         'V': '..._',\n",
        "         'W': '.__',\n",
        "         'X': '_.._',\n",
        "         'Y': '_.__',\n",
        "         'Z': '__..',\n",
        "         '0': '_____',\n",
        "         '1': '.____',\n",
        "         '2': '..___',\n",
        "         '3': '...__',\n",
        "         '4': '...._',\n",
        "         '5': '.....',\n",
        "         '6': '_....',\n",
        "         '7': '__...',\n",
        "         '8': '___..',\n",
        "         '9': '____.',\n",
        "         ' ': ' '}"
      ],
      "metadata": {
        "id": "pV1TIYX4kVO8"
      },
      "execution_count": 8,
      "outputs": []
    },
    {
      "cell_type": "markdown",
      "source": [
        "### define a function to translate each message into morse code with a pipe separating characters"
      ],
      "metadata": {
        "id": "usk-2C_Ns8gb"
      }
    },
    {
      "cell_type": "code",
      "source": [
        "## turn string into list. For each letter, use as key to get value from morse dict\n",
        "#morse_message = [morse[i] for i in message]\n",
        "\n",
        "## join list into string with pipe delimiter\n",
        "#'|'.join(morse_message)"
      ],
      "metadata": {
        "id": "JzKp5m3RkfAU"
      },
      "execution_count": null,
      "outputs": []
    },
    {
      "cell_type": "code",
      "source": [
        "def morse_translator(message):\n",
        "  message = all_caps(message)\n",
        "  morse_message = [morse[i] for i in message]\n",
        "  return '|'.join(morse_message)\n"
      ],
      "metadata": {
        "id": "RqQi6qZmtEYU"
      },
      "execution_count": 9,
      "outputs": []
    },
    {
      "cell_type": "code",
      "source": [
        "morse_translator('Alisha')"
      ],
      "metadata": {
        "colab": {
          "base_uri": "https://localhost:8080/",
          "height": 35
        },
        "id": "IhCNQx7EtdVf",
        "outputId": "5731293a-5991-4e67-ab71-68915d029e30"
      },
      "execution_count": 10,
      "outputs": [
        {
          "output_type": "execute_result",
          "data": {
            "text/plain": [
              "'._|._..|..|...|....|._'"
            ],
            "application/vnd.google.colaboratory.intrinsic+json": {
              "type": "string"
            }
          },
          "metadata": {},
          "execution_count": 10
        }
      ]
    },
    {
      "cell_type": "code",
      "source": [
        "morse_translator('hello world')"
      ],
      "metadata": {
        "colab": {
          "base_uri": "https://localhost:8080/",
          "height": 35
        },
        "id": "LGCeBLaNtmk5",
        "outputId": "cb9e9c77-0210-42ec-ba61-15fd49f6b6f1"
      },
      "execution_count": 12,
      "outputs": [
        {
          "output_type": "execute_result",
          "data": {
            "text/plain": [
              "'....|.|._..|._..|___| |.__|___|._.|._..|_..'"
            ],
            "application/vnd.google.colaboratory.intrinsic+json": {
              "type": "string"
            }
          },
          "metadata": {},
          "execution_count": 12
        }
      ]
    }
  ]
}